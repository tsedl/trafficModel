{
 "cells": [
  {
   "cell_type": "code",
   "execution_count": 1,
   "id": "2614ce57",
   "metadata": {},
   "outputs": [],
   "source": [
    "from pyomo.dae import ContinuousSet, DerivativeVar\n",
    "from pyomo.environ import ConcreteModel, TransformationFactory, Var, \\\n",
    "                          NonNegativeReals, Constraint, \\\n",
    "                          SolverFactory, Objective, cos, sin, minimize, \\\n",
    "                          NonNegativeReals\n",
    "import numpy as np\n",
    "import matplotlib.pyplot as plt\n",
    "\n",
    "# Define parameters of the problem\n",
    "g=9.81\n",
    "m_e=1e2\n",
    "theta=10\n",
    "C_RR=0.0035\n",
    "C_D=0.65\n",
    "rho=1.23\n",
    "V=3 #m/s\n",
    "U_max=16 #m/s, approx equivalent to 60km/h\n",
    "AWC=1.5e4\n",
    "CP=335\n",
    "A=0.423\n",
    "mm=m_e/1.014 #effective body mass 1.4% larger than actual mass\n",
    "P_max=-((4*0.039*90+CP)/pow((0.01*90+163),2))*pow(90,2)+(4*(0.039*90+CP)/pow((0.01*90+163),2))*90 \n",
    "#assumption only, equation (2.8) in Ashtiani 2021 thesis: \n",
    "#Optimal Pacing of Cyclists in a Times Trial based on Experimentally Calibrated Models of Fatigue and Recovery\n",
    "\n",
    "model = ConcreteModel('CyclingRace')\n",
    "model.T = Var(domain=NonNegativeReals)\n",
    "model.t = ContinuousSet(bounds=(0, 1))\n",
    "model.s = Var(model.t, domain=NonNegativeReals,bounds=(0,2e4))\n",
    "model.U = Var(model.t, domain=NonNegativeReals,bounds=(1,20))\n",
    "model.W = Var(model.t, domain=NonNegativeReals,bounds=(0,AWC))\n",
    "model.P = Var(model.t, domain=NonNegativeReals,bounds=(0,P_max))\n",
    "model.sdot = DerivativeVar(model.s, wrt=model.t, domain=NonNegativeReals)\n",
    "model.Udot = DerivativeVar(model.U, wrt=model.t, domain=NonNegativeReals)\n",
    "model.Wdot = DerivativeVar(model.W, wrt=model.t, domain=NonNegativeReals)\n",
    "\n",
    "# Dynamics\n",
    "model.sode = Constraint(model.t, rule=lambda m, t: m.sdot[t] == m.U[t]*m.T)\n"
   ]
  },
  {
   "cell_type": "code",
   "execution_count": 2,
   "id": "d80c7f7f",
   "metadata": {},
   "outputs": [],
   "source": [
    "model.Uode=Constraint(model.t, rule=lambda m, t: m.Udot[t]==(m.P[t]/m.U[t]/m_e)-(mm/m_e) * g * (sin(theta)+C_RR * cos(theta))-0.5/m_e * C_D * A * (m.U[t]-V)**2*m.T)"
   ]
  },
  {
   "cell_type": "code",
   "execution_count": 3,
   "id": "23c608db",
   "metadata": {},
   "outputs": [],
   "source": [
    "model.Wode=Constraint(model.t, rule=lambda m, t: m.Wdot[t]== -(m.P[t]-CP)*m.T)"
   ]
  },
  {
   "cell_type": "code",
   "execution_count": 4,
   "id": "f7222e09",
   "metadata": {},
   "outputs": [],
   "source": [
    "model.s[1].fix(2e4)"
   ]
  },
  {
   "cell_type": "code",
   "execution_count": 5,
   "id": "6c5d9892",
   "metadata": {
    "scrolled": true
   },
   "outputs": [
    {
     "ename": "KeyError",
     "evalue": "2094599515104",
     "output_type": "error",
     "traceback": [
      "\u001b[1;31m---------------------------------------------------------------------------\u001b[0m",
      "\u001b[1;31mKeyError\u001b[0m                                  Traceback (most recent call last)",
      "\u001b[1;32m~\\AppData\\Local\\Temp/ipykernel_3904/1174518676.py\u001b[0m in \u001b[0;36m<module>\u001b[1;34m\u001b[0m\n\u001b[0;32m      1\u001b[0m \u001b[0mmodel\u001b[0m\u001b[1;33m.\u001b[0m\u001b[0mobj\u001b[0m \u001b[1;33m=\u001b[0m \u001b[0mObjective\u001b[0m\u001b[1;33m(\u001b[0m\u001b[0mexpr\u001b[0m\u001b[1;33m=\u001b[0m\u001b[0mmodel\u001b[0m\u001b[1;33m.\u001b[0m\u001b[0mT\u001b[0m\u001b[1;33m,\u001b[0m \u001b[0msense\u001b[0m\u001b[1;33m=\u001b[0m\u001b[0mminimize\u001b[0m\u001b[1;33m)\u001b[0m\u001b[1;33m\u001b[0m\u001b[1;33m\u001b[0m\u001b[0m\n\u001b[0;32m      2\u001b[0m \u001b[0msolver\u001b[0m \u001b[1;33m=\u001b[0m \u001b[0mSolverFactory\u001b[0m\u001b[1;33m(\u001b[0m\u001b[1;34m'ipopt'\u001b[0m\u001b[1;33m)\u001b[0m\u001b[1;33m\u001b[0m\u001b[1;33m\u001b[0m\u001b[0m\n\u001b[1;32m----> 3\u001b[1;33m \u001b[0mresults\u001b[0m \u001b[1;33m=\u001b[0m \u001b[0msolver\u001b[0m\u001b[1;33m.\u001b[0m\u001b[0msolve\u001b[0m\u001b[1;33m(\u001b[0m\u001b[0mmodel\u001b[0m\u001b[1;33m)\u001b[0m\u001b[1;33m\u001b[0m\u001b[1;33m\u001b[0m\u001b[0m\n\u001b[0m",
      "\u001b[1;32mC:\\Anaconda\\anaconda\\lib\\site-packages\\pyomo\\opt\\base\\solvers.py\u001b[0m in \u001b[0;36msolve\u001b[1;34m(self, *args, **kwds)\u001b[0m\n\u001b[0;32m    567\u001b[0m             \u001b[0minitial_time\u001b[0m \u001b[1;33m=\u001b[0m \u001b[0mtime\u001b[0m\u001b[1;33m.\u001b[0m\u001b[0mtime\u001b[0m\u001b[1;33m(\u001b[0m\u001b[1;33m)\u001b[0m\u001b[1;33m\u001b[0m\u001b[1;33m\u001b[0m\u001b[0m\n\u001b[0;32m    568\u001b[0m \u001b[1;33m\u001b[0m\u001b[0m\n\u001b[1;32m--> 569\u001b[1;33m             \u001b[0mself\u001b[0m\u001b[1;33m.\u001b[0m\u001b[0m_presolve\u001b[0m\u001b[1;33m(\u001b[0m\u001b[1;33m*\u001b[0m\u001b[0margs\u001b[0m\u001b[1;33m,\u001b[0m \u001b[1;33m**\u001b[0m\u001b[0mkwds\u001b[0m\u001b[1;33m)\u001b[0m\u001b[1;33m\u001b[0m\u001b[1;33m\u001b[0m\u001b[0m\n\u001b[0m\u001b[0;32m    570\u001b[0m \u001b[1;33m\u001b[0m\u001b[0m\n\u001b[0;32m    571\u001b[0m             \u001b[0mpresolve_completion_time\u001b[0m \u001b[1;33m=\u001b[0m \u001b[0mtime\u001b[0m\u001b[1;33m.\u001b[0m\u001b[0mtime\u001b[0m\u001b[1;33m(\u001b[0m\u001b[1;33m)\u001b[0m\u001b[1;33m\u001b[0m\u001b[1;33m\u001b[0m\u001b[0m\n",
      "\u001b[1;32mC:\\Anaconda\\anaconda\\lib\\site-packages\\pyomo\\opt\\solver\\shellcmd.py\u001b[0m in \u001b[0;36m_presolve\u001b[1;34m(self, *args, **kwds)\u001b[0m\n\u001b[0;32m    203\u001b[0m         \u001b[0mself\u001b[0m\u001b[1;33m.\u001b[0m\u001b[0m_define_signal_handlers\u001b[0m \u001b[1;33m=\u001b[0m \u001b[0mkwds\u001b[0m\u001b[1;33m.\u001b[0m\u001b[0mpop\u001b[0m\u001b[1;33m(\u001b[0m\u001b[1;34m'use_signal_handling'\u001b[0m\u001b[1;33m,\u001b[0m\u001b[1;32mNone\u001b[0m\u001b[1;33m)\u001b[0m\u001b[1;33m\u001b[0m\u001b[1;33m\u001b[0m\u001b[0m\n\u001b[0;32m    204\u001b[0m \u001b[1;33m\u001b[0m\u001b[0m\n\u001b[1;32m--> 205\u001b[1;33m         \u001b[0mOptSolver\u001b[0m\u001b[1;33m.\u001b[0m\u001b[0m_presolve\u001b[0m\u001b[1;33m(\u001b[0m\u001b[0mself\u001b[0m\u001b[1;33m,\u001b[0m \u001b[1;33m*\u001b[0m\u001b[0margs\u001b[0m\u001b[1;33m,\u001b[0m \u001b[1;33m**\u001b[0m\u001b[0mkwds\u001b[0m\u001b[1;33m)\u001b[0m\u001b[1;33m\u001b[0m\u001b[1;33m\u001b[0m\u001b[0m\n\u001b[0m\u001b[0;32m    206\u001b[0m \u001b[1;33m\u001b[0m\u001b[0m\n\u001b[0;32m    207\u001b[0m         \u001b[1;31m#\u001b[0m\u001b[1;33m\u001b[0m\u001b[1;33m\u001b[0m\u001b[0m\n",
      "\u001b[1;32mC:\\Anaconda\\anaconda\\lib\\site-packages\\pyomo\\opt\\base\\solvers.py\u001b[0m in \u001b[0;36m_presolve\u001b[1;34m(self, *args, **kwds)\u001b[0m\n\u001b[0;32m    664\u001b[0m             \u001b[0mwrite_start_time\u001b[0m \u001b[1;33m=\u001b[0m \u001b[0mtime\u001b[0m\u001b[1;33m.\u001b[0m\u001b[0mtime\u001b[0m\u001b[1;33m(\u001b[0m\u001b[1;33m)\u001b[0m\u001b[1;33m\u001b[0m\u001b[1;33m\u001b[0m\u001b[0m\n\u001b[0;32m    665\u001b[0m             \u001b[1;33m(\u001b[0m\u001b[0mself\u001b[0m\u001b[1;33m.\u001b[0m\u001b[0m_problem_files\u001b[0m\u001b[1;33m,\u001b[0m \u001b[0mself\u001b[0m\u001b[1;33m.\u001b[0m\u001b[0m_problem_format\u001b[0m\u001b[1;33m,\u001b[0m \u001b[0mself\u001b[0m\u001b[1;33m.\u001b[0m\u001b[0m_smap_id\u001b[0m\u001b[1;33m)\u001b[0m \u001b[1;33m=\u001b[0m\u001b[0;31m \u001b[0m\u001b[0;31m\\\u001b[0m\u001b[1;33m\u001b[0m\u001b[1;33m\u001b[0m\u001b[0m\n\u001b[1;32m--> 666\u001b[1;33m                 self._convert_problem(args,\n\u001b[0m\u001b[0;32m    667\u001b[0m                                       \u001b[0mself\u001b[0m\u001b[1;33m.\u001b[0m\u001b[0m_problem_format\u001b[0m\u001b[1;33m,\u001b[0m\u001b[1;33m\u001b[0m\u001b[1;33m\u001b[0m\u001b[0m\n\u001b[0;32m    668\u001b[0m                                       \u001b[0mself\u001b[0m\u001b[1;33m.\u001b[0m\u001b[0m_valid_problem_formats\u001b[0m\u001b[1;33m,\u001b[0m\u001b[1;33m\u001b[0m\u001b[1;33m\u001b[0m\u001b[0m\n",
      "\u001b[1;32mC:\\Anaconda\\anaconda\\lib\\site-packages\\pyomo\\opt\\base\\solvers.py\u001b[0m in \u001b[0;36m_convert_problem\u001b[1;34m(self, args, problem_format, valid_problem_formats, **kwds)\u001b[0m\n\u001b[0;32m    715\u001b[0m                          \u001b[0mvalid_problem_formats\u001b[0m\u001b[1;33m,\u001b[0m\u001b[1;33m\u001b[0m\u001b[1;33m\u001b[0m\u001b[0m\n\u001b[0;32m    716\u001b[0m                          **kwds):\n\u001b[1;32m--> 717\u001b[1;33m         return convert_problem(args,\n\u001b[0m\u001b[0;32m    718\u001b[0m                                \u001b[0mproblem_format\u001b[0m\u001b[1;33m,\u001b[0m\u001b[1;33m\u001b[0m\u001b[1;33m\u001b[0m\u001b[0m\n\u001b[0;32m    719\u001b[0m                                \u001b[0mvalid_problem_formats\u001b[0m\u001b[1;33m,\u001b[0m\u001b[1;33m\u001b[0m\u001b[1;33m\u001b[0m\u001b[0m\n",
      "\u001b[1;32mC:\\Anaconda\\anaconda\\lib\\site-packages\\pyomo\\opt\\base\\convert.py\u001b[0m in \u001b[0;36mconvert_problem\u001b[1;34m(args, target_problem_type, valid_problem_types, has_capability, **kwds)\u001b[0m\n\u001b[0;32m     98\u001b[0m                     \u001b[0mtmpkw\u001b[0m \u001b[1;33m=\u001b[0m \u001b[0mkwds\u001b[0m\u001b[1;33m\u001b[0m\u001b[1;33m\u001b[0m\u001b[0m\n\u001b[0;32m     99\u001b[0m                     \u001b[0mtmpkw\u001b[0m\u001b[1;33m[\u001b[0m\u001b[1;34m'capabilities'\u001b[0m\u001b[1;33m]\u001b[0m \u001b[1;33m=\u001b[0m \u001b[0mhas_capability\u001b[0m\u001b[1;33m\u001b[0m\u001b[1;33m\u001b[0m\u001b[0m\n\u001b[1;32m--> 100\u001b[1;33m                     \u001b[0mproblem_files\u001b[0m\u001b[1;33m,\u001b[0m \u001b[0msymbol_map\u001b[0m \u001b[1;33m=\u001b[0m \u001b[0mconverter\u001b[0m\u001b[1;33m.\u001b[0m\u001b[0mapply\u001b[0m\u001b[1;33m(\u001b[0m\u001b[1;33m*\u001b[0m\u001b[0mtmp\u001b[0m\u001b[1;33m,\u001b[0m \u001b[1;33m**\u001b[0m\u001b[0mtmpkw\u001b[0m\u001b[1;33m)\u001b[0m\u001b[1;33m\u001b[0m\u001b[1;33m\u001b[0m\u001b[0m\n\u001b[0m\u001b[0;32m    101\u001b[0m                     \u001b[1;32mreturn\u001b[0m \u001b[0mproblem_files\u001b[0m\u001b[1;33m,\u001b[0m \u001b[0mptype\u001b[0m\u001b[1;33m,\u001b[0m \u001b[0msymbol_map\u001b[0m\u001b[1;33m\u001b[0m\u001b[1;33m\u001b[0m\u001b[0m\n\u001b[0;32m    102\u001b[0m \u001b[1;33m\u001b[0m\u001b[0m\n",
      "\u001b[1;32mC:\\Anaconda\\anaconda\\lib\\site-packages\\pyomo\\solvers\\plugins\\converter\\model.py\u001b[0m in \u001b[0;36mapply\u001b[1;34m(self, *args, **kwds)\u001b[0m\n\u001b[0;32m    178\u001b[0m                 \u001b[1;32melse\u001b[0m\u001b[1;33m:\u001b[0m\u001b[1;33m\u001b[0m\u001b[1;33m\u001b[0m\u001b[0m\n\u001b[0;32m    179\u001b[0m                     \u001b[1;33m(\u001b[0m\u001b[0mproblem_filename\u001b[0m\u001b[1;33m,\u001b[0m \u001b[0msymbol_map_id\u001b[0m\u001b[1;33m)\u001b[0m \u001b[1;33m=\u001b[0m\u001b[0;31m \u001b[0m\u001b[0;31m\\\u001b[0m\u001b[1;33m\u001b[0m\u001b[1;33m\u001b[0m\u001b[0m\n\u001b[1;32m--> 180\u001b[1;33m                         instance.write(\n\u001b[0m\u001b[0;32m    181\u001b[0m                             \u001b[0mfilename\u001b[0m\u001b[1;33m=\u001b[0m\u001b[0mproblem_filename\u001b[0m\u001b[1;33m,\u001b[0m\u001b[1;33m\u001b[0m\u001b[1;33m\u001b[0m\u001b[0m\n\u001b[0;32m    182\u001b[0m                             \u001b[0mformat\u001b[0m\u001b[1;33m=\u001b[0m\u001b[0margs\u001b[0m\u001b[1;33m[\u001b[0m\u001b[1;36m1\u001b[0m\u001b[1;33m]\u001b[0m\u001b[1;33m,\u001b[0m\u001b[1;33m\u001b[0m\u001b[1;33m\u001b[0m\u001b[0m\n",
      "\u001b[1;32mC:\\Anaconda\\anaconda\\lib\\site-packages\\pyomo\\core\\base\\block.py\u001b[0m in \u001b[0;36mwrite\u001b[1;34m(self, filename, format, solver_capability, io_options)\u001b[0m\n\u001b[0;32m   1820\u001b[0m         \u001b[1;32mif\u001b[0m \u001b[0msolver_capability\u001b[0m \u001b[1;32mis\u001b[0m \u001b[1;32mNone\u001b[0m\u001b[1;33m:\u001b[0m\u001b[1;33m\u001b[0m\u001b[1;33m\u001b[0m\u001b[0m\n\u001b[0;32m   1821\u001b[0m             \u001b[1;32mdef\u001b[0m \u001b[0msolver_capability\u001b[0m\u001b[1;33m(\u001b[0m\u001b[0mx\u001b[0m\u001b[1;33m)\u001b[0m\u001b[1;33m:\u001b[0m \u001b[1;32mreturn\u001b[0m \u001b[1;32mTrue\u001b[0m\u001b[1;33m\u001b[0m\u001b[1;33m\u001b[0m\u001b[0m\n\u001b[1;32m-> 1822\u001b[1;33m         (filename, smap) = problem_writer(self,\n\u001b[0m\u001b[0;32m   1823\u001b[0m                                           \u001b[0mfilename\u001b[0m\u001b[1;33m,\u001b[0m\u001b[1;33m\u001b[0m\u001b[1;33m\u001b[0m\u001b[0m\n\u001b[0;32m   1824\u001b[0m                                           \u001b[0msolver_capability\u001b[0m\u001b[1;33m,\u001b[0m\u001b[1;33m\u001b[0m\u001b[1;33m\u001b[0m\u001b[0m\n",
      "\u001b[1;32mpyomo\\repn\\plugins\\ampl\\ampl_.pyx\u001b[0m in \u001b[0;36mpyomo.repn.plugins.ampl.ampl_.ProblemWriter_nl.__call__\u001b[1;34m()\u001b[0m\n",
      "\u001b[1;32mpyomo\\repn\\plugins\\ampl\\ampl_.pyx\u001b[0m in \u001b[0;36mpyomo.repn.plugins.ampl.ampl_.ProblemWriter_nl.__call__\u001b[1;34m()\u001b[0m\n",
      "\u001b[1;32mpyomo\\repn\\plugins\\ampl\\ampl_.pyx\u001b[0m in \u001b[0;36mpyomo.repn.plugins.ampl.ampl_.ProblemWriter_nl.__call__\u001b[1;34m()\u001b[0m\n",
      "\u001b[1;32mpyomo\\repn\\plugins\\ampl\\ampl_.pyx\u001b[0m in \u001b[0;36mpyomo.repn.plugins.ampl.ampl_.ProblemWriter_nl._print_model_NL\u001b[1;34m()\u001b[0m\n",
      "\u001b[1;32mpyomo\\repn\\plugins\\ampl\\ampl_.pyx\u001b[0m in \u001b[0;36mgenexpr\u001b[1;34m()\u001b[0m\n",
      "\u001b[1;32mpyomo\\repn\\plugins\\ampl\\ampl_.pyx\u001b[0m in \u001b[0;36mgenexpr\u001b[1;34m()\u001b[0m\n",
      "\u001b[1;31mKeyError\u001b[0m: 2094599515104"
     ]
    }
   ],
   "source": [
    "model.obj = Objective(expr=model.T, sense=minimize)\n",
    "solver = SolverFactory('ipopt')\n",
    "results = solver.solve(model)"
   ]
  },
  {
   "cell_type": "code",
   "execution_count": null,
   "id": "3a330f8e",
   "metadata": {},
   "outputs": [],
   "source": []
  },
  {
   "cell_type": "code",
   "execution_count": null,
   "id": "0f026e5c",
   "metadata": {},
   "outputs": [],
   "source": []
  }
 ],
 "metadata": {
  "kernelspec": {
   "display_name": "Python 3 (ipykernel)",
   "language": "python",
   "name": "python3"
  },
  "language_info": {
   "codemirror_mode": {
    "name": "ipython",
    "version": 3
   },
   "file_extension": ".py",
   "mimetype": "text/x-python",
   "name": "python",
   "nbconvert_exporter": "python",
   "pygments_lexer": "ipython3",
   "version": "3.9.7"
  }
 },
 "nbformat": 4,
 "nbformat_minor": 5
}
